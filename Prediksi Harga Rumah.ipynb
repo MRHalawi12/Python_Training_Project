{
 "cells": [
  {
   "cell_type": "code",
   "execution_count": 20,
   "metadata": {},
   "outputs": [
    {
     "name": "stdout",
     "output_type": "stream",
     "text": [
      "[{'tanah': '150'}]\n",
      "[{'tanah': '150', 'bangunan': '90'}, {'tanah': '150', 'bangunan': '90'}]\n",
      "[{'tanah': '150', 'bangunan': '90', 'jarak_ke_pusat': '15'}, {'tanah': '150', 'bangunan': '90', 'jarak_ke_pusat': '15'}, {'tanah': '150', 'bangunan': '90', 'jarak_ke_pusat': '15'}]\n",
      "[{'tanah': '150', 'bangunan': '90', 'jarak_ke_pusat': '15', 'harga': '3000'}, {'tanah': '150', 'bangunan': '90', 'jarak_ke_pusat': '15', 'harga': '3000'}, {'tanah': '150', 'bangunan': '90', 'jarak_ke_pusat': '15', 'harga': '3000'}, {'tanah': '150', 'bangunan': '90', 'jarak_ke_pusat': '15', 'harga': '3000'}]\n"
     ]
    }
   ],
   "source": [
    "# STEP 1:\n",
    "# Baca file \"harga_rumah.txt\"\n",
    "file_harga_rumah = open(\"harga_rumah.txt\", \"r\")\n",
    "data_harga_rumah = file_harga_rumah.readlines()\n",
    "file_harga_rumah.close()\n",
    "# Buat list of dict dengan nama harga rumah\n",
    "key_harga_rumah = data_harga_rumah[0].replace(\"\\n\",\"\").split(\",\")\n",
    "harga_rumah = []\n",
    "for baris in data_harga_rumah[1:]:\n",
    "\tbaris_harga_rumah = baris.replace(\"\\n\",\"\").split(\",\")\n",
    "\tdict_harga_rumah = dict()\n",
    "for i in range(len(baris_harga_rumah)):\n",
    "\tdict_harga_rumah[key_harga_rumah[i]] = baris_harga_rumah[i]\n",
    "\tharga_rumah.append(dict_harga_rumah)\n",
    "\tprint(harga_rumah)"
   ]
  },
  {
   "cell_type": "code",
   "execution_count": 21,
   "metadata": {},
   "outputs": [
    {
     "ename": "IndentationError",
     "evalue": "expected an indented block (<ipython-input-21-50672d94bcc9>, line 7)",
     "output_type": "error",
     "traceback": [
      "\u001b[1;36m  File \u001b[1;32m\"<ipython-input-21-50672d94bcc9>\"\u001b[1;36m, line \u001b[1;32m7\u001b[0m\n\u001b[1;33m    list_attributes = []\u001b[0m\n\u001b[1;37m    ^\u001b[0m\n\u001b[1;31mIndentationError\u001b[0m\u001b[1;31m:\u001b[0m expected an indented block\n"
     ]
    }
   ],
   "source": [
    "# STEP 2:\n",
    "# Buat fungsi get_all_specified_attribute yang menerima parameter list_of_dictionary\n",
    "# (tipe data list yang berisikan sekumpulan tipe data dictionary) dan specified_key\n",
    "# (tipe data string). Fungsi akan mengembalikan sebuah list yang berisikan seluruh\n",
    "# atribut dengan kunci (key) specified_key.\n",
    "def get_all_specified_attributes(list_of_dictionary, specified_key):\n",
    "list_attributes = []\n",
    "for data in list_of_dictionary:\n",
    "\tattribute = data[specified_key]\n",
    "\tlist_attributes.append(attribute)\n",
    "return list_attributes"
   ]
  },
  {
   "cell_type": "code",
   "execution_count": 22,
   "metadata": {},
   "outputs": [
    {
     "ename": "IndentationError",
     "evalue": "expected an indented block (<ipython-input-22-dd8298cf6389>, line 5)",
     "output_type": "error",
     "traceback": [
      "\u001b[1;36m  File \u001b[1;32m\"<ipython-input-22-dd8298cf6389>\"\u001b[1;36m, line \u001b[1;32m5\u001b[0m\n\u001b[1;33m    min_attribute = 9999\u001b[0m\n\u001b[1;37m    ^\u001b[0m\n\u001b[1;31mIndentationError\u001b[0m\u001b[1;31m:\u001b[0m expected an indented block\n"
     ]
    }
   ],
   "source": [
    "# STEP 3:\n",
    "# Buat fungsi fungsi min_value yang menerima parameter list_attributes (berupa\n",
    "# tipe data list) dan mengembalikan nilai terkecil dalam list_attributes\n",
    "def min_value(list_attributes):\n",
    "min_attribute = 9999\n",
    "for attr in list_attributes:\n",
    "\tif int(attr) < min_attribute:\n",
    "\tmin_attribute = int(attr)\n",
    "return min_attribute\n",
    "# Buat fungsi dan max_value yang menerima parameter list_attribute dan\n",
    "# mengembalikan nilai terbesar dalam list_attributes.\n",
    "def max_value(list_attributes):\n",
    "max_attribute = -9999\n",
    "for attr in list_attributes:\n",
    "\tif int(attr) > max_attribute:\n",
    "\tmax_attribute = int(attr)\n",
    "return max_attribute"
   ]
  },
  {
   "cell_type": "code",
   "execution_count": 19,
   "metadata": {},
   "outputs": [
    {
     "ename": "SyntaxError",
     "evalue": "'return' outside function (<ipython-input-19-579c2ea7a590>, line 7)",
     "output_type": "error",
     "traceback": [
      "\u001b[1;36m  File \u001b[1;32m\"<ipython-input-19-579c2ea7a590>\"\u001b[1;36m, line \u001b[1;32m7\u001b[0m\n\u001b[1;33m    return nilai_transformasi\u001b[0m\n\u001b[1;37m    ^\u001b[0m\n\u001b[1;31mSyntaxError\u001b[0m\u001b[1;31m:\u001b[0m 'return' outside function\n"
     ]
    }
   ],
   "source": [
    "# STEP 4:\n",
    "# Buat fungsi transform_attribute yang menerima parameter attr (sebuah\n",
    "# bilangan), max_attr (sebuah bilangan) dan min_attr (sebuah bilangan)\n",
    "# yang mengembalikan nilai transformasi dari sebuah attribute.\n",
    "def transform_attribute(attr, max_attr, min_attr):\n",
    "\tnilai_transformasi = (attr - min_attr) / (max_attr - min_attr)\n",
    "return nilai_transformasi"
   ]
  },
  {
   "cell_type": "code",
   "execution_count": 7,
   "metadata": {},
   "outputs": [
    {
     "ename": "NameError",
     "evalue": "name 'data_idx' is not defined",
     "output_type": "error",
     "traceback": [
      "\u001b[1;31m---------------------------------------------------------------------------\u001b[0m",
      "\u001b[1;31mNameError\u001b[0m                                 Traceback (most recent call last)",
      "\u001b[1;32m<ipython-input-7-a8069d0b1db0>\u001b[0m in \u001b[0;36m<module>\u001b[1;34m\u001b[0m\n\u001b[0;32m     13\u001b[0m                 \u001b[0mattr_info\u001b[0m\u001b[1;33m[\u001b[0m\u001b[0mattr_name\u001b[0m\u001b[1;33m]\u001b[0m \u001b[1;33m=\u001b[0m \u001b[1;33m{\u001b[0m\u001b[1;34m'max'\u001b[0m\u001b[1;33m:\u001b[0m \u001b[0mmax_attr\u001b[0m\u001b[1;33m,\u001b[0m \u001b[1;34m'min'\u001b[0m\u001b[1;33m:\u001b[0m \u001b[0mmin_attr\u001b[0m\u001b[1;33m}\u001b[0m\u001b[1;33m\u001b[0m\u001b[1;33m\u001b[0m\u001b[0m\n\u001b[0;32m     14\u001b[0m                 \u001b[0mdata_idx\u001b[0m \u001b[1;33m=\u001b[0m \u001b[1;36m0\u001b[0m\u001b[1;33m\u001b[0m\u001b[1;33m\u001b[0m\u001b[0m\n\u001b[1;32m---> 15\u001b[1;33m \u001b[1;32mwhile\u001b[0m\u001b[1;33m(\u001b[0m\u001b[0mdata_idx\u001b[0m \u001b[1;33m<\u001b[0m \u001b[0mlen\u001b[0m\u001b[1;33m(\u001b[0m\u001b[0mlist_of_dictionary\u001b[0m\u001b[1;33m)\u001b[0m\u001b[1;33m)\u001b[0m\u001b[1;33m:\u001b[0m\u001b[1;33m\u001b[0m\u001b[1;33m\u001b[0m\u001b[0m\n\u001b[0m\u001b[0;32m     16\u001b[0m         \u001b[0mlist_of_dictionary\u001b[0m\u001b[1;33m[\u001b[0m\u001b[0mdata_idx\u001b[0m\u001b[1;33m]\u001b[0m\u001b[1;33m[\u001b[0m\u001b[0mattr_name\u001b[0m\u001b[1;33m]\u001b[0m \u001b[1;33m=\u001b[0m                       \u001b[0mtransform_attribute\u001b[0m\u001b[1;33m(\u001b[0m\u001b[0mint\u001b[0m\u001b[1;33m(\u001b[0m\u001b[0mlist_of_dictionary\u001b[0m\u001b[1;33m[\u001b[0m\u001b[0mdata_idx\u001b[0m\u001b[1;33m]\u001b[0m\u001b[1;33m[\u001b[0m\u001b[0mattr_name\u001b[0m\u001b[1;33m]\u001b[0m\u001b[1;33m)\u001b[0m\u001b[1;33m,\u001b[0m \u001b[0mmax_attr\u001b[0m\u001b[1;33m,\u001b[0m \u001b[0mmin_attr\u001b[0m\u001b[1;33m)\u001b[0m\u001b[1;33m\u001b[0m\u001b[1;33m\u001b[0m\u001b[0m\n\u001b[0;32m     17\u001b[0m \u001b[0mdata_idx\u001b[0m \u001b[1;33m+=\u001b[0m \u001b[1;36m1\u001b[0m\u001b[1;33m\u001b[0m\u001b[1;33m\u001b[0m\u001b[0m\n",
      "\u001b[1;31mNameError\u001b[0m: name 'data_idx' is not defined"
     ]
    }
   ],
   "source": [
    "# STEP 5:\n",
    "# Buat fungsi data_transformation yang menerima parameter list_of_dictionary\n",
    "# (sebuah list yang berisikan tipe data dictionary) dan list_attribute_names\n",
    "# (sebuah list yang berisikan tipe data string) mengembalikan hasil\n",
    "# transformasi data dari list_of_dictionary berdasarkan list_attribute_names\n",
    "# dan attr_info telah dispesifikasikan.\n",
    "def data_transformation(list_of_dictionary, list_attribute_names):\n",
    "\tattr_info = {}\n",
    "\tfor attr_name in list_attribute_names:\n",
    "\t\tspecified_attributes = get_all_specified_attributes(list_of_dictionary, attr_name)\n",
    "\t\tmax_attr = max_value(specified_attributes)\n",
    "\t\tmin_attr = min_value(specified_attributes)\n",
    "\t\tattr_info[attr_name] = {'max': max_attr, 'min': min_attr}\n",
    "\t\tdata_idx = 0\n",
    "while(data_idx < len(list_of_dictionary)):\n",
    "\tlist_of_dictionary[data_idx][attr_name] = \t\t\ttransform_attribute(int(list_of_dictionary[data_idx][attr_name]), max_attr, min_attr)\n",
    "data_idx += 1\n",
    "return list_of_dictionary, attr_info"
   ]
  },
  {
   "cell_type": "code",
   "execution_count": 8,
   "metadata": {},
   "outputs": [
    {
     "ename": "IndentationError",
     "evalue": "expected an indented block (<ipython-input-8-f38c6784fa50>, line 6)",
     "output_type": "error",
     "traceback": [
      "\u001b[1;36m  File \u001b[1;32m\"<ipython-input-8-f38c6784fa50>\"\u001b[1;36m, line \u001b[1;32m6\u001b[0m\n\u001b[1;33m    for key_name in data.keys():\u001b[0m\n\u001b[1;37m    ^\u001b[0m\n\u001b[1;31mIndentationError\u001b[0m\u001b[1;31m:\u001b[0m expected an indented block\n"
     ]
    }
   ],
   "source": [
    "# STEP 6:\n",
    "# Berdasarkan data baru dan attr_info ini, buat fungsi transform_data yang\n",
    "# menerima parameter data dan attr_info dan mengembalikan nilai atribut\n",
    "# dari data baru yang telah ditransformasikan.\n",
    "def transform_data(data, attr_info):\n",
    "for key_name in data.keys():\n",
    "\tdata[key_name] = (data[key_name] - attr_info[key_name]['min']) / (\n",
    "\tattr_info[key_name]['max'] - attr_info[key_name]['min'])\n",
    "return data"
   ]
  },
  {
   "cell_type": "code",
   "execution_count": 9,
   "metadata": {},
   "outputs": [
    {
     "ename": "IndentationError",
     "evalue": "expected an indented block (<ipython-input-9-c69c857ffd35>, line 6)",
     "output_type": "error",
     "traceback": [
      "\u001b[1;36m  File \u001b[1;32m\"<ipython-input-9-c69c857ffd35>\"\u001b[1;36m, line \u001b[1;32m6\u001b[0m\n\u001b[1;33m    return -value\u001b[0m\n\u001b[1;37m                 ^\u001b[0m\n\u001b[1;31mIndentationError\u001b[0m\u001b[1;31m:\u001b[0m expected an indented block\n"
     ]
    }
   ],
   "source": [
    "# STEP 7:\n",
    "# Buat fungsi yang digunakan untuk sistem prediksi harga berdasarkan\n",
    "# nilai kemiripan atribut!\n",
    "def abs_value(value):\n",
    "\tif value < 0:\n",
    "return -value\n",
    "else:\n",
    "return value\n",
    "def price_based_on_similarity(data, list_of_data):\n",
    "\tprediksi_harga = 0\n",
    "\tperbedaan_terkecil = 999\n",
    "for data_point in list_of_data:\n",
    "\tperbedaan= abs_value(data['tanah'] - data_point['tanah'])\n",
    "\tperbedaan+= abs_value(data['bangunan'] - data_point['bangunan'])\n",
    "\tperbedaan+= abs_value(data['jarak_ke_pusat'] - data_point['jarak_ke_pusat'])\n",
    "if perbedaan < perbedaan_terkecil:\n",
    "\tprediksi_harga = data_point['harga']\n",
    "\tperbedaan_terkecil = perbedaan\n",
    "return prediksi_harga"
   ]
  },
  {
   "cell_type": "code",
   "execution_count": 10,
   "metadata": {},
   "outputs": [
    {
     "ename": "NameError",
     "evalue": "name 'harga_rumah' is not defined",
     "output_type": "error",
     "traceback": [
      "\u001b[1;31m---------------------------------------------------------------------------\u001b[0m",
      "\u001b[1;31mNameError\u001b[0m                                 Traceback (most recent call last)",
      "\u001b[1;32m<ipython-input-10-19b620c54d1c>\u001b[0m in \u001b[0;36m<module>\u001b[1;34m\u001b[0m\n\u001b[0;32m      2\u001b[0m \u001b[1;31m# Hitung harga rumah yang telah ditransformasikan ke dalam variabel\u001b[0m\u001b[1;33m\u001b[0m\u001b[1;33m\u001b[0m\u001b[1;33m\u001b[0m\u001b[0m\n\u001b[0;32m      3\u001b[0m \u001b[1;31m# harga_rumah berikut dengan atributnya attr_info\u001b[0m\u001b[1;33m\u001b[0m\u001b[1;33m\u001b[0m\u001b[1;33m\u001b[0m\u001b[0m\n\u001b[1;32m----> 4\u001b[1;33m harga_rumah, attr_info = data_transformation(harga_rumah,\n\u001b[0m\u001b[0;32m      5\u001b[0m ['tanah','bangunan','jarak_ke_pusat'])\n\u001b[0;32m      6\u001b[0m \u001b[1;31m# Gunakan variabel data untuk memprediksi harga rumah\u001b[0m\u001b[1;33m\u001b[0m\u001b[1;33m\u001b[0m\u001b[1;33m\u001b[0m\u001b[0m\n",
      "\u001b[1;31mNameError\u001b[0m: name 'harga_rumah' is not defined"
     ]
    }
   ],
   "source": [
    "# STEP 8:\n",
    "# Hitung harga rumah yang telah ditransformasikan ke dalam variabel\n",
    "# harga_rumah berikut dengan atributnya attr_info\n",
    "harga_rumah, attr_info = data_transformation(harga_rumah,\n",
    "['tanah','bangunan','jarak_ke_pusat'])\n",
    "# Gunakan variabel data untuk memprediksi harga rumah\n",
    "data = {'tanah': 110, 'bangunan': 80, 'jarak_ke_pusat': 35}\n",
    "# Transformasikan data tersebut dengan dengan menggunakan attr_info yang telah\n",
    "# diperoleh yang kembali disimpan ke variabel data.\n",
    "data = transform_data(data, attr_info)\n",
    "# Hitunglah prediksi harga dari variabel data tersebut.\n",
    "harga = price_based_on_similarity(data, harga_rumah)\n",
    "print(\"Prediksi harga rumah: \", harga)"
   ]
  },
  {
   "cell_type": "code",
   "execution_count": null,
   "metadata": {},
   "outputs": [],
   "source": []
  }
 ],
 "metadata": {
  "kernelspec": {
   "display_name": "Python 3",
   "language": "python",
   "name": "python3"
  },
  "language_info": {
   "codemirror_mode": {
    "name": "ipython",
    "version": 3
   },
   "file_extension": ".py",
   "mimetype": "text/x-python",
   "name": "python",
   "nbconvert_exporter": "python",
   "pygments_lexer": "ipython3",
   "version": "3.8.3"
  }
 },
 "nbformat": 4,
 "nbformat_minor": 4
}
